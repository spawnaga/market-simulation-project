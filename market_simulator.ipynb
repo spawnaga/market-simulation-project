
{
 "cells": [
  {
   "cell_type": "markdown",
   "metadata": {},
   "source": [
    "# AAPL Market Simulator\n",
    "\n",
    "This notebook provides a step-by-step analysis of AAPL price action using an adaptive market simulator."
   ]
  },
  {
   "cell_type": "markdown",
   "metadata": {},
   "source": [
    "## Import Libraries\n",
    "\n",
    "Let's start by importing the necessary libraries."
   ]
  },
  {
   "cell_type": "code",
   "execution_count": 1,
   "metadata": {},
   "outputs": [],
   "source": [
    "import pandas as pd\n",
    "import numpy as np\n",
    "import matplotlib.pyplot as plt\n",
    "import seaborn as sns\n",
    "from market_model import MarketSimulator, Trader, OrderBook\n",
    "from market_analysis import analyze_data, evaluate_predictions, plot_simulation_results"
   ]
  },
  {
   "cell_type": "markdown",
   "metadata": {},
   "source": [
    "## Load Data\n",
    "\n",
    "First, let's load the AAPL trading data."
   ]
  },
  {
   "cell_type": "code",
   "execution_count": 2,
   "metadata": {},
   "outputs": [],
   "source": [
    "def load_data(filepath):\n",
    "    \"\"\"Load AAPL trading data from CSV\"\"\"\n",
    "    df = pd.read_csv(filepath, header=None, names=['timestamp', 'open', 'high', 'low', 'close', 'volume'],\n                    parse_dates=['timestamp'])\n",
    "    return df\n\n",
    "# Load the data\n",
    "df = load_data('AAPL_2024.csv')\n",
    "print(f\"Loaded {len(df)} records\")\n",
    "print(\"\\nFirst 5 records:\")\n",
    "display(df.head())"
   ]
  },
  {
   "cell_type": "markdown",
   "metadata": {},
   "source": [
    "## Data Analysis\n",
    "\n",
    "Let's perform some initial analysis of the data."
   ]
  },
  {
   "cell_type": "code",
   "execution_count": 3,
   "metadata": {},
   "outputs": [],
   "source": [
    "# Perform initial analysis\n",
    "analysis_results = analyze_data(df)\n",
    "\n",
    "# Display key statistics\n",
    "print(\"Key Statistics:\")\n",
    "for key, value in analysis_results.items():\n",
    "    print(f\"{key.replace('_', ' ').title()}: {value:.2f}\")\n",
    "\n",
    "# Display plots\n",
    "from IPython.display import Image\n",
    "print(\"\\nPrice Trends:\")\n",
    "display(Image(filename='price_trends.png'))\n",
    "print(\"\\nVolume Trends:\")\n",
    "display(Image(filename='volume_trends.png'))"
   ]
  },
  {
   "cell_type": "markdown",
   "metadata": {},
   "source": [
    "## Initialize Market Simulator\n",
    "\n",
    "Now let's set up the market simulator with traders and order books."
   ]
  },
  {
   "cell_type": "code",
   "execution_count": 4,
   "metadata": {},
   "outputs": [],
   "source": [
    "# Initialize market components\n",
    "order_book = OrderBook()\n",
    "traders = [Trader(order_book) for _ in range(50)]  # Create 50 traders\n",
    "simulator = MarketSimulator(order_book, traders)\n",
    "\n",
    "print(f\"Initialized with {len(traders)} traders\")\n",
    "print(f\"Initial parameters: trader_activity_rate={order_book.trader_activity_rate}, proportion_maker={order_book.proportion_maker}\")"
   ]
  },
  {
   "cell_type": "markdown",
   "metadata": {},
   "source": [
    "## Parameter Optimization\n",
    "\n",
    "Let's optimize the market parameters to best explain historical price action."
   ]
  },
  {
   "cell_type": "code",
   "execution_count": 5,
   "metadata": {},
   "outputs": [],
   "source": [
    "# Run parameter optimization\n",
    "print(\"Running parameter optimization...\")\n",
    "best_params = simulator.optimize_parameters(df)\n",
    "\n",
    "print(\"Optimized Parameters:\")\n",
    "for key, value in best_params.items():\n",
    "    print(f\"{key.replace('_', ' ').title()}: {value:.3f}\")"
   ]
  },
  {
   "cell_type": "markdown",
   "metadata": {},
   "source": [
    "## Run Market Simulation\n",
    "\n",
    "Now let's run the market simulation using the optimized parameters."
   ]
  },
  {
   "cell_type": "code",
   "execution_count": 6,
   "metadata": {},
   "outputs": [],
   "source": [
    "# Run simulation with best parameters\n",
    "print(\"Running market simulation...\")\n",
    "predictions = simulator.run_simulation(df, best_params)\n",
    "\n",
    "# Evaluate results\n",
    "rmse = evaluate_predictions(df['close'].values, predictions)\n",
    "print(f\"\\nRoot Mean Squared Error (RMSE): {rmse:.4f}\")\n",
    "\n",
    "# Plot simulation results\n",
    "errors = plot_simulation_results(df['close'].values, predictions)\n",
    "\n",
    "# Display error statistics\n",
    "print(\"\\nError Statistics:\")\n",
    "print(f\"Mean Error: {np.mean(errors):.4f}\")\n",
    "print(f\"Std Error: {np.std(errors):.4f}\")\n",
    "print(f\"Max Error: {np.max(errors):.4f}\")\n",
    "print(f\"Min Error: {np.min(errors):.4f}\")"
   ]
  },
  {
   "cell_type": "markdown",
   "metadata": {},
   "source": [
    "## Analysis of Trader Behavior\n",
    "\n",
    "Let's analyze how different types of traders behave in the simulation."
   ]
  },
  {
   "cell_type": "code",
   "execution_count": 7,
   "metadata": {},
   "outputs": [],
   "source": [
    "# Analyze trader behavior\n",
    "print(\"Analyzing trader behavior...\")\n",
    "\n",
    "# Track orders placed by each trader type\n",
    "maker_orders = []\n",
    "taker_orders = []\n",
    "\n",
    "# Simulate a short period to analyze behavior\n",
    "sample_df = df.head(100)\n",
    "order_book.last_traded_price = sample_df['open'].iloc[0]\n",
    "\n",
    "for i in range(len(sample_df)):\n",
    "    for trader in traders:\n",
    "        order = trader.determine_price()\n",
    "        if order['is_buy'] == (order['price'] < order_book.last_traded_price):\n",
    "            # This is a maker order (buying low, selling high)\n",
    "            maker_orders.append(order['price'])\n",
    "        else:\n",
    "            # This is a taker order (buying high, selling low)\n",
    "            taker_orders.append(order['price'])\n",
    "        \n",
    "        # Update last traded price\n",
    "        order_book.last_traded_price = sample_df['close'].iloc[i]\n",
    "\n",
    "# Plot price distribution by trader type\n",
    "plt.figure(figsize=(12, 6))\n",
    "plt.hist(maker_orders, bins=30, alpha=0.5, label='Maker Orders', color='green')\n",
    "plt.hist(taker_orders, bins=30, alpha=0.5, label='Taker Orders', color='red')\n",
    "plt.title('Trader Order Price Distribution')\n",
    "plt.xlabel('Price')\n",
    "plt.ylabel('Number of Orders')\n",
    "plt.legend()\n",
    "plt.savefig('trader_behavior.png')\n",
    "plt.close()\n",
    "\n",
    "print(\"Trader behavior analysis complete. See trader_behavior.png\")\n",
    "print(f\"Maker orders: {len(maker_orders)}, Taker orders: {len(taker_orders)}\")\n",
    "print(f\"Average maker order price: {np.mean(maker_orders):.2f}\")\n",
    "print(f\"Average taker order price: {np.mean(taker_orders):.2f}\")"
   ]
  },
  {
   "cell_type": "markdown",
   "metadata": {},
   "source": [
    "## Sensitivity Analysis\n",
    "\n",
    "Let's perform sensitivity analysis to understand how different parameters affect the simulation."
   ]
  },
  {
   "cell_type": "code",
   "execution_count": 8,
   "metadata": {},
   "outputs": [],
   "source": [
    "# Sensitivity analysis\n",
    "print(\"Running sensitivity analysis...\")\n",
    "\n",
    "activity_rates = np.linspace(0.2, 1.8, 5)\n",
    "maker_proportions = np.linspace(0.2, 0.8, 5)\n",
    "rmse_results = np.zeros((len(activity_rates), len(maker_proportions)))\n",
    "\n",
    "for i, activity_rate in enumerate(activity_rates):\n",
    "    for j, proportion_maker in enumerate(maker_proportions):\n",
    "        params = {\n",
    "            'trader_activity_rate': activity_rate,\n",
    "            'proportion_maker': proportion_maker\n",
    "        }\n",
    "        predictions = simulator.run_simulation(df.head(200), params)\n",
    "        rmse_results[i, j] = evaluate_predictions(df.head(200)['close'].values, predictions)\n",
    "\n",
    "# Plot sensitivity results\n",
    "plt.figure(figsize=(10, 8))\n",
    "sns.heatmap(rmse_results, annot=True, fmt=\".2f\", cmap='viridis',\n                xticklabels=[f\"{p:.1f}\" for p in maker_proportions],\n                yticklabels=[f\"{r:.1f}\" for r in activity_rates])\n",
    "plt.title('Sensitivity Analysis: RMSE by Parameters')\n",
    "plt.xlabel('Proportion Maker')\n",
    "plt.ylabel('Trader Activity Rate')\n",
    "plt.savefig('sensitivity_analysis.png')\n",
    "plt.close()\n",
    "\n",
    "print(\"Sensitivity analysis complete. See sensitivity_analysis.png\")\n",
    "print(f\"Best parameters from analysis: activity_rate={activity_rates[np.unravel_index(np.argmin(rmse_results), rmse_results.shape)[0]]:.2f}, \"\n",
    "      f\"maker_proportion={maker_proportions[np.unravel_index(np.argmin(rmse_results), rmse_results.shape)[1]]:.2f}\")"
   ]
  },
  {
   "cell_type": "markdown",
   "metadata": {},
   "source": [
    "## Summary\n",
    "\n",
    "Let's summarize our findings from the market simulation."
   ]
  },
  {
   "cell_type": "code",
   "execution_count": 9,
   "metadata": {},
   "outputs": [],
   "source": [
    "print(\"=== Market Simulation Summary ===\")\n",
    "print(f\"Data period: {df['timestamp'].min()} to {df['timestamp'].max()}\")\n",
    "print(f\"Total records: {len(df)}\")\n",
    "print(f\"\\nOptimized Parameters:\")\n",
    "print(f\"  Trader Activity Rate: {best_params['trader_activity_rate']:.3f}\")\n",
    "print(f\"  Proportion Maker: {best_params['proportion_maker']:.3f}\")\n",
    "print(f\"\\nSimulation Results:\")\n",
    "print(f\"  RMSE: {rmse:.4f}\")\n",
    "print(f\"  Mean Error: {np.mean(errors):.4f}\")\n",
    "print(f\"  Std Error: {np.std(errors):.4f}\")\n",
    "\n",
    "print(\"\\nKey Insights:\")\n",
    "print(f\"  - The optimized trader activity rate suggests {best_params['trader_activity_rate']:.1f}x the base activity level\")\n",
    "print(f\"  - Maker orders constitute {best_params['proportion_maker']*100:.0f}% of total orders\")\n",
    "print(f\"  - The simulation achieves an RMSE of {rmse:.4f}, indicating moderate predictive accuracy\")\n",
    "\n",
    "print(\"\\nVisualizations generated:\")\n",
    "print(\"  - price_trends.png: Historical price trends with moving averages\")\n",
    "print(\"  - volume_trends.png: Trading volume over time\")\n",
    "print(\"  - simulation_results.png: Actual vs predicted prices\")\n",
    "print(\"  - error_distribution.png: Distribution of prediction errors\")\n",
    "print(\"  - trader_behavior.png: Price distribution of maker vs taker orders\")\n",
    "print(\"  - sensitivity_analysis.png: RMSE sensitivity to parameters\")"
   ]
  }
 ],
 "metadata": {
  "kernelspec": {
   "display_name": "Python 3",
   "language": "python",
   "name": "python3"
  },
  "language_info": {
   "codemirror_mode": {
   "name": "ipython",
   "version": 3
  },
  "file_extension": ".py",
   "mimetype": "text/x-python",
   "name": "python",
   "nbconvert_exporter": "python",
   "pygments_lexer": "ipython3",
   "version": "3.8.10"
  }
 },
 "nbformat": 4,
 "nbformat_minor": 5
}


